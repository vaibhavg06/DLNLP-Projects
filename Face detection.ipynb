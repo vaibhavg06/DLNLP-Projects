{
 "cells": [
  {
   "cell_type": "code",
   "execution_count": 1,
   "id": "f4c3b588-8dae-44ef-a81e-309299b5f006",
   "metadata": {},
   "outputs": [],
   "source": [
    "import tensorflow as tf\n",
    "from keras.preprocessing.image import ImageDataGenerator"
   ]
  },
  {
   "cell_type": "code",
   "execution_count": 2,
   "id": "9213f1a0-0024-4028-ab61-dbe5bfd8db3d",
   "metadata": {},
   "outputs": [
    {
     "name": "stdout",
     "output_type": "stream",
     "text": [
      "Found 6977 images belonging to 2 classes.\n"
     ]
    }
   ],
   "source": [
    "train_datagen = ImageDataGenerator(rescale = 1./255,\n",
    "                                   shear_range = 0.2,\n",
    "                                   zoom_range = 0.2,\n",
    "                                   horizontal_flip = True)\n",
    "training_set = train_datagen.flow_from_directory('Downloads/faces/train',\n",
    "                                                 target_size = (64, 64),\n",
    "                                                 batch_size = 32,\n",
    "                                                 class_mode = 'binary')"
   ]
  },
  {
   "cell_type": "code",
   "execution_count": 3,
   "id": "de301929-447f-4e4b-9a1a-1826382cf579",
   "metadata": {},
   "outputs": [
    {
     "name": "stdout",
     "output_type": "stream",
     "text": [
      "Found 24045 images belonging to 2 classes.\n"
     ]
    }
   ],
   "source": [
    "test_datagen = ImageDataGenerator(rescale = 1./255)\n",
    "test_set = test_datagen.flow_from_directory('Downloads/faces/test',\n",
    "                                            target_size = (64, 64),\n",
    "                                            batch_size = 32,\n",
    "                                            class_mode = 'binary')"
   ]
  },
  {
   "cell_type": "code",
   "execution_count": 4,
   "id": "5587f5c2-13da-4c5d-acc8-a50873c3e3ea",
   "metadata": {},
   "outputs": [],
   "source": [
    "cnn = tf.keras.models.Sequential()"
   ]
  },
  {
   "cell_type": "code",
   "execution_count": 5,
   "id": "02f9cc6c-52b0-4c96-87c9-78b25386ec02",
   "metadata": {},
   "outputs": [],
   "source": [
    "cnn.add(tf.keras.layers.Conv2D(filters=32, kernel_size=3, activation='relu', input_shape=[64, 64, 3]))"
   ]
  },
  {
   "cell_type": "code",
   "execution_count": 6,
   "id": "485292e4-ae1a-466e-a48a-2989b5343d19",
   "metadata": {},
   "outputs": [],
   "source": [
    "cnn.add(tf.keras.layers.MaxPool2D(pool_size=2, strides=2))"
   ]
  },
  {
   "cell_type": "code",
   "execution_count": 7,
   "id": "f7f23b2b-e786-41d8-9cf8-0ae79ef9a821",
   "metadata": {},
   "outputs": [],
   "source": [
    "cnn.add(tf.keras.layers.Conv2D(filters=32, kernel_size=3, activation='relu'))\n",
    "cnn.add(tf.keras.layers.MaxPool2D(pool_size=2, strides=2))"
   ]
  },
  {
   "cell_type": "code",
   "execution_count": 8,
   "id": "89a8d60a-e2d9-4d8b-9d40-cffe1f983c18",
   "metadata": {},
   "outputs": [
    {
     "name": "stdout",
     "output_type": "stream",
     "text": [
      "Epoch 1/25\n",
      "219/219 [==============================] - 331s 2s/step - loss: 0.1346 - accuracy: 0.9493 - val_loss: 0.0869 - val_accuracy: 0.9694\n",
      "Epoch 2/25\n",
      "219/219 [==============================] - 77s 353ms/step - loss: 0.0464 - accuracy: 0.9827 - val_loss: 0.0531 - val_accuracy: 0.9854\n",
      "Epoch 3/25\n",
      "219/219 [==============================] - 77s 351ms/step - loss: 0.0378 - accuracy: 0.9844 - val_loss: 0.0815 - val_accuracy: 0.9730\n",
      "Epoch 4/25\n",
      "219/219 [==============================] - 77s 351ms/step - loss: 0.0342 - accuracy: 0.9862 - val_loss: 0.0610 - val_accuracy: 0.9803\n",
      "Epoch 5/25\n",
      "219/219 [==============================] - 79s 362ms/step - loss: 0.0228 - accuracy: 0.9917 - val_loss: 0.0792 - val_accuracy: 0.9730\n",
      "Epoch 6/25\n",
      "219/219 [==============================] - 77s 354ms/step - loss: 0.0146 - accuracy: 0.9946 - val_loss: 0.0747 - val_accuracy: 0.9861\n",
      "Epoch 7/25\n",
      "219/219 [==============================] - 77s 351ms/step - loss: 0.0113 - accuracy: 0.9964 - val_loss: 0.0639 - val_accuracy: 0.9881\n",
      "Epoch 8/25\n",
      "219/219 [==============================] - 76s 347ms/step - loss: 0.0136 - accuracy: 0.9946 - val_loss: 0.0630 - val_accuracy: 0.9818\n",
      "Epoch 9/25\n",
      "219/219 [==============================] - 75s 341ms/step - loss: 0.0157 - accuracy: 0.9937 - val_loss: 0.0647 - val_accuracy: 0.9868\n",
      "Epoch 10/25\n",
      "219/219 [==============================] - 79s 361ms/step - loss: 0.0115 - accuracy: 0.9961 - val_loss: 0.0762 - val_accuracy: 0.9811\n",
      "Epoch 11/25\n",
      "219/219 [==============================] - 77s 352ms/step - loss: 0.0126 - accuracy: 0.9956 - val_loss: 0.0769 - val_accuracy: 0.9847\n",
      "Epoch 12/25\n",
      "219/219 [==============================] - 77s 352ms/step - loss: 0.0076 - accuracy: 0.9971 - val_loss: 0.0763 - val_accuracy: 0.9881\n",
      "Epoch 13/25\n",
      "219/219 [==============================] - 77s 351ms/step - loss: 0.0066 - accuracy: 0.9971 - val_loss: 0.1091 - val_accuracy: 0.9843\n",
      "Epoch 14/25\n",
      "219/219 [==============================] - 77s 354ms/step - loss: 0.0166 - accuracy: 0.9941 - val_loss: 0.0815 - val_accuracy: 0.9857\n",
      "Epoch 15/25\n",
      "219/219 [==============================] - 78s 356ms/step - loss: 0.0097 - accuracy: 0.9960 - val_loss: 0.0787 - val_accuracy: 0.9856\n",
      "Epoch 16/25\n",
      "219/219 [==============================] - 77s 351ms/step - loss: 0.0120 - accuracy: 0.9966 - val_loss: 0.0682 - val_accuracy: 0.9832\n",
      "Epoch 17/25\n",
      "219/219 [==============================] - 77s 352ms/step - loss: 0.0068 - accuracy: 0.9979 - val_loss: 0.0584 - val_accuracy: 0.9874\n",
      "Epoch 18/25\n",
      "219/219 [==============================] - 77s 352ms/step - loss: 0.0080 - accuracy: 0.9971 - val_loss: 0.0873 - val_accuracy: 0.9861\n",
      "Epoch 19/25\n",
      "219/219 [==============================] - 77s 352ms/step - loss: 0.0040 - accuracy: 0.9990 - val_loss: 0.0775 - val_accuracy: 0.9868\n",
      "Epoch 20/25\n",
      "219/219 [==============================] - 80s 365ms/step - loss: 0.0041 - accuracy: 0.9981 - val_loss: 0.0866 - val_accuracy: 0.9866\n",
      "Epoch 21/25\n",
      "219/219 [==============================] - 75s 341ms/step - loss: 0.0070 - accuracy: 0.9970 - val_loss: 0.1509 - val_accuracy: 0.9840\n",
      "Epoch 22/25\n",
      "219/219 [==============================] - 76s 346ms/step - loss: 0.0070 - accuracy: 0.9967 - val_loss: 0.1006 - val_accuracy: 0.9869\n",
      "Epoch 23/25\n",
      "219/219 [==============================] - 76s 347ms/step - loss: 0.0089 - accuracy: 0.9970 - val_loss: 0.0750 - val_accuracy: 0.9885\n",
      "Epoch 24/25\n",
      "219/219 [==============================] - 76s 345ms/step - loss: 0.0034 - accuracy: 0.9987 - val_loss: 0.0864 - val_accuracy: 0.9889\n",
      "Epoch 25/25\n",
      "219/219 [==============================] - 76s 346ms/step - loss: 0.0056 - accuracy: 0.9987 - val_loss: 0.0884 - val_accuracy: 0.9874\n"
     ]
    },
    {
     "data": {
      "text/plain": [
       "<keras.callbacks.History at 0x1ac963d2280>"
      ]
     },
     "execution_count": 8,
     "metadata": {},
     "output_type": "execute_result"
    }
   ],
   "source": [
    "cnn.add(tf.keras.layers.Flatten())\n",
    "cnn.add(tf.keras.layers.Dense(units=128, activation='relu'))\n",
    "cnn.add(tf.keras.layers.Dense(units=1, activation='sigmoid'))\n",
    "cnn.compile(optimizer = 'adam', loss = 'binary_crossentropy', metrics = ['accuracy'])\n",
    "cnn.fit(x = training_set, validation_data = test_set, epochs = 25)"
   ]
  },
  {
   "cell_type": "code",
   "execution_count": 10,
   "id": "687ca39f-352f-4756-8872-fa4bf5b11692",
   "metadata": {},
   "outputs": [
    {
     "name": "stdout",
     "output_type": "stream",
     "text": [
      "1/1 [==============================] - 0s 223ms/step\n",
      "not face\n",
      "Prediction = not face\n"
     ]
    }
   ],
   "source": [
    "import numpy as np\n",
    "test_image =tf.keras.utils.load_img('Downloads/faces/test/face/cmu_0000.png', target_size = (64, 64))\n",
    "test_image = tf.keras.utils.img_to_array(test_image)\n",
    "test_image = test_image / 255\n",
    "test_image = np.expand_dims(test_image, axis = 0)\n",
    "\n",
    "result = cnn.predict(test_image)\n",
    "if result[0][0] >= 0.5:\n",
    "        prediction = 'face'\n",
    "        probability = result[0][0]\n",
    "        print (\"face\")\n",
    "else:\n",
    "        prediction = 'not face'\n",
    "        probability = 1 - result[0][0]\n",
    "        print (\"not face\")\n",
    "        print(\"Prediction = \" + prediction)"
   ]
  },
  {
   "cell_type": "code",
   "execution_count": null,
   "id": "12fbc76d-efba-4f38-80d9-7a102b0f36d9",
   "metadata": {},
   "outputs": [],
   "source": []
  }
 ],
 "metadata": {
  "kernelspec": {
   "display_name": "Python 3 (ipykernel)",
   "language": "python",
   "name": "python3"
  },
  "language_info": {
   "codemirror_mode": {
    "name": "ipython",
    "version": 3
   },
   "file_extension": ".py",
   "mimetype": "text/x-python",
   "name": "python",
   "nbconvert_exporter": "python",
   "pygments_lexer": "ipython3",
   "version": "3.9.7"
  }
 },
 "nbformat": 4,
 "nbformat_minor": 5
}
