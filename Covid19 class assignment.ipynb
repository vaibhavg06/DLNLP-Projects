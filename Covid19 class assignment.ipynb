{
 "cells": [
  {
   "cell_type": "code",
   "execution_count": 10,
   "id": "f4c3b588-8dae-44ef-a81e-309299b5f006",
   "metadata": {},
   "outputs": [],
   "source": [
    "import tensorflow as tf\n",
    "from keras.preprocessing.image import ImageDataGenerator"
   ]
  },
  {
   "cell_type": "code",
   "execution_count": 11,
   "id": "9213f1a0-0024-4028-ab61-dbe5bfd8db3d",
   "metadata": {},
   "outputs": [
    {
     "name": "stdout",
     "output_type": "stream",
     "text": [
      "Found 251 images belonging to 3 classes.\n"
     ]
    }
   ],
   "source": [
    "train_datagen = ImageDataGenerator(rescale = 1./255,\n",
    "                                   shear_range = 0.2,\n",
    "                                   zoom_range = 0.2,\n",
    "                                   horizontal_flip = True)\n",
    "training_set = train_datagen.flow_from_directory('Downloads/Term 4/DLNLP/Covid19-dataset/train',\n",
    "                                                 target_size = (64, 64),\n",
    "                                                 batch_size = 32,\n",
    "                                                 class_mode = 'categorical')"
   ]
  },
  {
   "cell_type": "code",
   "execution_count": 12,
   "id": "de301929-447f-4e4b-9a1a-1826382cf579",
   "metadata": {},
   "outputs": [
    {
     "name": "stdout",
     "output_type": "stream",
     "text": [
      "Found 66 images belonging to 3 classes.\n"
     ]
    }
   ],
   "source": [
    "test_datagen = ImageDataGenerator(rescale = 1./255)\n",
    "test_set = test_datagen.flow_from_directory('Downloads/Term 4/DLNLP/Covid19-dataset/test',\n",
    "                                            target_size = (64, 64),\n",
    "                                            batch_size = 32,\n",
    "                                            class_mode = 'categorical')"
   ]
  },
  {
   "cell_type": "code",
   "execution_count": 13,
   "id": "5587f5c2-13da-4c5d-acc8-a50873c3e3ea",
   "metadata": {},
   "outputs": [],
   "source": [
    "cnn = tf.keras.models.Sequential()"
   ]
  },
  {
   "cell_type": "code",
   "execution_count": 14,
   "id": "02f9cc6c-52b0-4c96-87c9-78b25386ec02",
   "metadata": {},
   "outputs": [],
   "source": [
    "cnn.add(tf.keras.layers.Conv2D(32,3,activation='relu', input_shape=[64, 64, 3]))"
   ]
  },
  {
   "cell_type": "code",
   "execution_count": 15,
   "id": "485292e4-ae1a-466e-a48a-2989b5343d19",
   "metadata": {},
   "outputs": [],
   "source": [
    "cnn.add(tf.keras.layers.MaxPool2D(pool_size=2, strides=2))"
   ]
  },
  {
   "cell_type": "code",
   "execution_count": 16,
   "id": "f7f23b2b-e786-41d8-9cf8-0ae79ef9a821",
   "metadata": {},
   "outputs": [],
   "source": [
    "cnn.add(tf.keras.layers.Conv2D(64,3,activation='relu'))\n",
    "cnn.add(tf.keras.layers.MaxPool2D(pool_size=2, strides=2))"
   ]
  },
  {
   "cell_type": "code",
   "execution_count": 17,
   "id": "2e0a63ab-04c3-4a1e-9394-3f4adf0fc38f",
   "metadata": {},
   "outputs": [],
   "source": [
    "cnn.add(tf.keras.layers.Conv2D(128,3,activation='relu'))\n",
    "cnn.add(tf.keras.layers.MaxPool2D(pool_size=2, strides=2))"
   ]
  },
  {
   "cell_type": "code",
   "execution_count": 18,
   "id": "89a8d60a-e2d9-4d8b-9d40-cffe1f983c18",
   "metadata": {},
   "outputs": [
    {
     "name": "stdout",
     "output_type": "stream",
     "text": [
      "Epoch 1/50\n",
      "8/8 [==============================] - 26s 3s/step - loss: 1.0685 - accuracy: 0.4422 - val_loss: 0.9811 - val_accuracy: 0.4242\n",
      "Epoch 2/50\n",
      "8/8 [==============================] - 23s 3s/step - loss: 0.8002 - accuracy: 0.6932 - val_loss: 0.4460 - val_accuracy: 0.9091\n",
      "Epoch 3/50\n",
      "8/8 [==============================] - 24s 3s/step - loss: 0.6407 - accuracy: 0.7371 - val_loss: 0.7486 - val_accuracy: 0.6212\n",
      "Epoch 4/50\n",
      "8/8 [==============================] - 23s 3s/step - loss: 0.5226 - accuracy: 0.7769 - val_loss: 0.4901 - val_accuracy: 0.7424\n",
      "Epoch 5/50\n",
      "8/8 [==============================] - 24s 3s/step - loss: 0.4484 - accuracy: 0.8446 - val_loss: 0.3597 - val_accuracy: 0.8182\n",
      "Epoch 6/50\n",
      "8/8 [==============================] - 24s 3s/step - loss: 0.4351 - accuracy: 0.8406 - val_loss: 0.4094 - val_accuracy: 0.8030\n",
      "Epoch 7/50\n",
      "8/8 [==============================] - 25s 3s/step - loss: 0.4338 - accuracy: 0.8207 - val_loss: 0.3508 - val_accuracy: 0.8333\n",
      "Epoch 8/50\n",
      "8/8 [==============================] - 24s 3s/step - loss: 0.3647 - accuracy: 0.8566 - val_loss: 0.3808 - val_accuracy: 0.8485\n",
      "Epoch 9/50\n",
      "8/8 [==============================] - 21s 2s/step - loss: 0.2928 - accuracy: 0.8845 - val_loss: 0.3249 - val_accuracy: 0.8485\n",
      "Epoch 10/50\n",
      "8/8 [==============================] - 23s 3s/step - loss: 0.2602 - accuracy: 0.8964 - val_loss: 0.2022 - val_accuracy: 0.9394\n",
      "Epoch 11/50\n",
      "8/8 [==============================] - 23s 3s/step - loss: 0.3863 - accuracy: 0.8606 - val_loss: 0.3626 - val_accuracy: 0.8182\n",
      "Epoch 12/50\n",
      "8/8 [==============================] - 23s 3s/step - loss: 0.2983 - accuracy: 0.8805 - val_loss: 0.2606 - val_accuracy: 0.8485\n",
      "Epoch 13/50\n",
      "8/8 [==============================] - 23s 3s/step - loss: 0.3142 - accuracy: 0.8845 - val_loss: 0.3767 - val_accuracy: 0.8333\n",
      "Epoch 14/50\n",
      "8/8 [==============================] - 24s 3s/step - loss: 0.2585 - accuracy: 0.9004 - val_loss: 0.3448 - val_accuracy: 0.8485\n",
      "Epoch 15/50\n",
      "8/8 [==============================] - 24s 3s/step - loss: 0.2444 - accuracy: 0.9163 - val_loss: 0.2602 - val_accuracy: 0.8788\n",
      "Epoch 16/50\n",
      "8/8 [==============================] - 23s 3s/step - loss: 0.2181 - accuracy: 0.9243 - val_loss: 0.1586 - val_accuracy: 0.9545\n",
      "Epoch 17/50\n",
      "8/8 [==============================] - 23s 3s/step - loss: 0.2793 - accuracy: 0.8964 - val_loss: 0.2607 - val_accuracy: 0.8939\n",
      "Epoch 18/50\n",
      "8/8 [==============================] - 24s 3s/step - loss: 0.2390 - accuracy: 0.9124 - val_loss: 0.1809 - val_accuracy: 0.8788\n",
      "Epoch 19/50\n",
      "8/8 [==============================] - 23s 3s/step - loss: 0.1975 - accuracy: 0.9283 - val_loss: 0.2821 - val_accuracy: 0.8788\n",
      "Epoch 20/50\n",
      "8/8 [==============================] - 23s 3s/step - loss: 0.2307 - accuracy: 0.9124 - val_loss: 0.2908 - val_accuracy: 0.8788\n",
      "Epoch 21/50\n",
      "8/8 [==============================] - 23s 3s/step - loss: 0.2315 - accuracy: 0.9044 - val_loss: 0.2256 - val_accuracy: 0.9242\n",
      "Epoch 22/50\n",
      "8/8 [==============================] - 23s 3s/step - loss: 0.2023 - accuracy: 0.9283 - val_loss: 0.2100 - val_accuracy: 0.9242\n",
      "Epoch 23/50\n",
      "8/8 [==============================] - 23s 3s/step - loss: 0.1993 - accuracy: 0.9243 - val_loss: 0.2816 - val_accuracy: 0.8939\n",
      "Epoch 24/50\n",
      "8/8 [==============================] - 23s 3s/step - loss: 0.1743 - accuracy: 0.9402 - val_loss: 0.2027 - val_accuracy: 0.9242\n",
      "Epoch 25/50\n",
      "8/8 [==============================] - 23s 3s/step - loss: 0.2588 - accuracy: 0.8924 - val_loss: 0.2472 - val_accuracy: 0.9242\n",
      "Epoch 26/50\n",
      "8/8 [==============================] - 23s 3s/step - loss: 0.2162 - accuracy: 0.9323 - val_loss: 0.2598 - val_accuracy: 0.8939\n",
      "Epoch 27/50\n",
      "8/8 [==============================] - 23s 3s/step - loss: 0.1714 - accuracy: 0.9562 - val_loss: 0.1338 - val_accuracy: 0.9545\n",
      "Epoch 28/50\n",
      "8/8 [==============================] - 23s 3s/step - loss: 0.1791 - accuracy: 0.9442 - val_loss: 0.2276 - val_accuracy: 0.9091\n",
      "Epoch 29/50\n",
      "8/8 [==============================] - 23s 3s/step - loss: 0.1831 - accuracy: 0.9243 - val_loss: 0.1245 - val_accuracy: 0.9242\n",
      "Epoch 30/50\n",
      "8/8 [==============================] - 23s 3s/step - loss: 0.1263 - accuracy: 0.9522 - val_loss: 0.1814 - val_accuracy: 0.9242\n",
      "Epoch 31/50\n",
      "8/8 [==============================] - 24s 3s/step - loss: 0.1739 - accuracy: 0.9363 - val_loss: 0.2148 - val_accuracy: 0.9394\n",
      "Epoch 32/50\n",
      "8/8 [==============================] - 23s 3s/step - loss: 0.1639 - accuracy: 0.9363 - val_loss: 0.1890 - val_accuracy: 0.9242\n",
      "Epoch 33/50\n",
      "8/8 [==============================] - 23s 3s/step - loss: 0.1265 - accuracy: 0.9522 - val_loss: 0.2261 - val_accuracy: 0.9091\n",
      "Epoch 34/50\n",
      "8/8 [==============================] - 23s 3s/step - loss: 0.1332 - accuracy: 0.9482 - val_loss: 0.1815 - val_accuracy: 0.9394\n",
      "Epoch 35/50\n",
      "8/8 [==============================] - 23s 3s/step - loss: 0.1208 - accuracy: 0.9402 - val_loss: 0.2004 - val_accuracy: 0.9242\n",
      "Epoch 36/50\n",
      "8/8 [==============================] - 23s 3s/step - loss: 0.1271 - accuracy: 0.9482 - val_loss: 0.1253 - val_accuracy: 0.9545\n",
      "Epoch 37/50\n",
      "8/8 [==============================] - 23s 3s/step - loss: 0.1132 - accuracy: 0.9641 - val_loss: 0.1937 - val_accuracy: 0.9394\n",
      "Epoch 38/50\n",
      "8/8 [==============================] - 23s 3s/step - loss: 0.0968 - accuracy: 0.9602 - val_loss: 0.1182 - val_accuracy: 0.9545\n",
      "Epoch 39/50\n",
      "8/8 [==============================] - 23s 3s/step - loss: 0.1200 - accuracy: 0.9522 - val_loss: 0.1595 - val_accuracy: 0.9242\n",
      "Epoch 40/50\n",
      "8/8 [==============================] - 23s 3s/step - loss: 0.0996 - accuracy: 0.9602 - val_loss: 0.1734 - val_accuracy: 0.9545\n",
      "Epoch 41/50\n",
      "8/8 [==============================] - 23s 3s/step - loss: 0.1484 - accuracy: 0.9323 - val_loss: 0.2572 - val_accuracy: 0.8939\n",
      "Epoch 42/50\n",
      "8/8 [==============================] - 24s 3s/step - loss: 0.1177 - accuracy: 0.9602 - val_loss: 0.1559 - val_accuracy: 0.9697\n",
      "Epoch 43/50\n",
      "8/8 [==============================] - 23s 3s/step - loss: 0.1318 - accuracy: 0.9562 - val_loss: 0.4284 - val_accuracy: 0.8333\n",
      "Epoch 44/50\n",
      "8/8 [==============================] - 23s 3s/step - loss: 0.1862 - accuracy: 0.9203 - val_loss: 0.1566 - val_accuracy: 0.9242\n",
      "Epoch 45/50\n",
      "8/8 [==============================] - 23s 3s/step - loss: 0.1835 - accuracy: 0.9323 - val_loss: 0.3593 - val_accuracy: 0.8636\n",
      "Epoch 46/50\n",
      "8/8 [==============================] - 23s 3s/step - loss: 0.1189 - accuracy: 0.9562 - val_loss: 0.2281 - val_accuracy: 0.9091\n",
      "Epoch 47/50\n",
      "8/8 [==============================] - 23s 3s/step - loss: 0.0953 - accuracy: 0.9562 - val_loss: 0.2140 - val_accuracy: 0.9242\n",
      "Epoch 48/50\n",
      "8/8 [==============================] - 23s 3s/step - loss: 0.1111 - accuracy: 0.9442 - val_loss: 0.1402 - val_accuracy: 0.9242\n",
      "Epoch 49/50\n",
      "8/8 [==============================] - 23s 3s/step - loss: 0.0674 - accuracy: 0.9721 - val_loss: 0.1662 - val_accuracy: 0.9394\n",
      "Epoch 50/50\n",
      "8/8 [==============================] - 24s 3s/step - loss: 0.0638 - accuracy: 0.9721 - val_loss: 0.1543 - val_accuracy: 0.9545\n"
     ]
    },
    {
     "data": {
      "text/plain": [
       "<keras.callbacks.History at 0x15363241ac0>"
      ]
     },
     "execution_count": 18,
     "metadata": {},
     "output_type": "execute_result"
    }
   ],
   "source": [
    "cnn.add(tf.keras.layers.Flatten())\n",
    "cnn.add(tf.keras.layers.Dense(units=128, activation='relu'))\n",
    "cnn.add(tf.keras.layers.Dense(3, activation='softmax'))\n",
    "cnn.compile(optimizer='adam', loss= 'categorical_crossentropy', metrics= ['accuracy'])\n",
    "cnn.fit(x = training_set, validation_data = test_set, epochs = 50)"
   ]
  },
  {
   "cell_type": "code",
   "execution_count": 33,
   "id": "687ca39f-352f-4756-8872-fa4bf5b11692",
   "metadata": {},
   "outputs": [
    {
     "name": "stdout",
     "output_type": "stream",
     "text": [
      "1/1 [==============================] - 0s 49ms/step\n",
      "Covid\n"
     ]
    }
   ],
   "source": [
    "import numpy as np\n",
    "from tensorflow.keras.preprocessing import image\n",
    "\n",
    "test_image = image.load_img(\"Downloads/Term 4/DLNLP/Covid19-dataset/test/Covid/0111.jpg\" , target_size = (64, 64))\n",
    "\n",
    "\n",
    "test_image = image.img_to_array(test_image)\n",
    "test_image = np.expand_dims(test_image,axis = 0)\n",
    "\n",
    "\n",
    "result = cnn.predict(test_image)\n",
    "\n",
    "result=result.astype(int)\n",
    "Y=training_set.class_indices\n",
    "j=0\n",
    "i = 0\n",
    "while i < 3:\n",
    "    \n",
    "    if result[0][i] == 1:\n",
    "        break\n",
    "    i=i+1\n",
    "j=i\n",
    "if j == 0:\n",
    " prediction = 'Covid'\n",
    "    \n",
    "elif j == 1:\n",
    " prediction = 'Normal'\n",
    "\n",
    "elif j == 2:\n",
    " prediction = 'Viral Pneumonia'\n",
    "    \n",
    "print(prediction)"
   ]
  },
  {
   "cell_type": "code",
   "execution_count": null,
   "id": "26213616-77a2-46a0-b57f-6a8e9fc5b9fd",
   "metadata": {},
   "outputs": [],
   "source": []
  },
  {
   "cell_type": "code",
   "execution_count": null,
   "id": "7fb73c66",
   "metadata": {},
   "outputs": [],
   "source": []
  }
 ],
 "metadata": {
  "kernelspec": {
   "display_name": "Python 3 (ipykernel)",
   "language": "python",
   "name": "python3"
  },
  "language_info": {
   "codemirror_mode": {
    "name": "ipython",
    "version": 3
   },
   "file_extension": ".py",
   "mimetype": "text/x-python",
   "name": "python",
   "nbconvert_exporter": "python",
   "pygments_lexer": "ipython3",
   "version": "3.9.7"
  }
 },
 "nbformat": 4,
 "nbformat_minor": 5
}
